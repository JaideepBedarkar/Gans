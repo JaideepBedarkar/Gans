{
 "cells": [
  {
   "cell_type": "code",
   "execution_count": 1,
   "metadata": {},
   "outputs": [],
   "source": [
    "import torch\n",
    "import torch.nn as nn\n",
    "from torch.utils.data import Dataset, DataLoader\n",
    "import numpy as np\n",
    "import torch.optim as optim\n",
    "from torchvision import transforms, utils,datasets\n",
    "import matplotlib.pyplot as plt\n",
    "import torchvision"
   ]
  },
  {
   "cell_type": "code",
   "execution_count": 2,
   "metadata": {},
   "outputs": [],
   "source": [
    "import os\n",
    "import cv2"
   ]
  },
  {
   "cell_type": "code",
   "execution_count": 3,
   "metadata": {},
   "outputs": [
    {
     "name": "stdout",
     "output_type": "stream",
     "text": [
      "cuda:0\n"
     ]
    }
   ],
   "source": [
    "device = torch.device(\"cuda:0\" if torch.cuda.is_available() else \"cpu\")\n",
    "print(device)"
   ]
  },
  {
   "cell_type": "code",
   "execution_count": 4,
   "metadata": {},
   "outputs": [],
   "source": [
    "####DATA_LOADING######\n",
    "trans = transforms.Compose([transforms.ToTensor(),transforms.Normalize((0.5, 0.5, 0.5), (0.5, 0.5, 0.5))])\n",
    "\n",
    "train_set = datasets.MNIST(root='./data', train=True, transform=trans, download=False)\n",
    "test_set = datasets.MNIST(root='./data', train=False, transform=trans, download=False)\n",
    "\n",
    "train_loader = DataLoader(train_set, batch_size=4,shuffle=True)\n",
    "test_loader = DataLoader(test_set, batch_size=4,shuffle=True)"
   ]
  },
  {
   "cell_type": "code",
   "execution_count": 5,
   "metadata": {},
   "outputs": [],
   "source": [
    "###GENERATOR###\n",
    "class generator(nn.Module):\n",
    "    def __init__(self):\n",
    "        super().__init__()\n",
    "        self.noise_to_3d = nn.Linear(100,7*7*256)\n",
    "        self.block = nn.Sequential(nn.ConvTranspose2d(256,128,kernel_size =3 ,stride=3 ,padding=0),\n",
    "                                  nn.BatchNorm2d(128),\n",
    "                                  nn.ReLU(),\n",
    "                                  nn.ConvTranspose2d(128,1,kernel_size =8 ,stride=1 ,padding=0),\n",
    "                                  nn.BatchNorm2d(1), \n",
    "                                  nn.Tanh())\n",
    "    def forward(self,z):\n",
    "        out = self.noise_to_3d(z)\n",
    "        out = out.reshape(out.size(0),256,7,7)\n",
    "        out = self.block(out)\n",
    "        return out"
   ]
  },
  {
   "cell_type": "code",
   "execution_count": 6,
   "metadata": {},
   "outputs": [],
   "source": [
    "####DISCRIMINATOR####\n",
    "class discriminator(nn.Module):\n",
    "    def __init__(self):\n",
    "        super().__init__()\n",
    "    \n",
    "        self.layer1 = nn.Sequential(\n",
    "                                  nn.Conv2d(1,16,kernel_size =7 ,stride=1 ,padding=3),\n",
    "                                  nn.BatchNorm2d(16),\n",
    "                                  nn.LeakyReLU(negative_slope=0.2),\n",
    "                                  nn.MaxPool2d(kernel_size = 2, stride=2))\n",
    "        self.layer2 = nn.Sequential(\n",
    "                                  nn.Conv2d(16,32,kernel_size =5 ,stride=1 ,padding=2),\n",
    "                                  nn.BatchNorm2d(32),\n",
    "                                  nn.LeakyReLU(negative_slope=0.2),\n",
    "                                  nn.MaxPool2d(kernel_size =2 , stride=2))\n",
    "        \n",
    "        self.fc = nn.Linear(7*7*32,1)\n",
    "        self.output = nn.Sigmoid()\n",
    "        \n",
    "    def forward(self, x):\n",
    "        out = self.layer1(x)\n",
    "        out = self.layer2(out)\n",
    "        out = out.reshape(out.size(0), -1)\n",
    "        out = self.fc(out)\n",
    "        out = self.output(out)\n",
    "        return out"
   ]
  },
  {
   "cell_type": "code",
   "execution_count": 7,
   "metadata": {},
   "outputs": [],
   "source": [
    "def imshow(img):\n",
    "    img = img / 2 + 0.5     # unnormalize\n",
    "    npimg = img.detach().numpy()\n",
    "    plt.imshow((np.transpose(npimg, (1, 2, 0))))\n",
    "    plt.show()"
   ]
  },
  {
   "cell_type": "code",
   "execution_count": 8,
   "metadata": {},
   "outputs": [],
   "source": [
    "def noise(size):\n",
    "    n = torch.randn(size,100)\n",
    "    return n"
   ]
  },
  {
   "cell_type": "code",
   "execution_count": 10,
   "metadata": {},
   "outputs": [],
   "source": [
    "gen = generator()\n",
    "gen = gen.cuda()\n",
    "dis = discriminator()\n",
    "dis = dis.cuda()"
   ]
  },
  {
   "cell_type": "code",
   "execution_count": null,
   "metadata": {},
   "outputs": [],
   "source": []
  },
  {
   "cell_type": "code",
   "execution_count": null,
   "metadata": {},
   "outputs": [],
   "source": [
    "criterion  = nn.BCELoss()\n",
    "optimizer_generator = optim.Adam(gen.parameters(),lr = 0.0002,betas=(0.5,0.999))\n",
    "optimizer_discriminator = optim.Adam(dis.parameters(),lr = 0.0002,betas=(0.5,0.999))"
   ]
  },
  {
   "cell_type": "code",
   "execution_count": null,
   "metadata": {
    "scrolled": true
   },
   "outputs": [],
   "source": [
    "############ TRAINING ######################\n",
    "for epoch in range(1):\n",
    "    running_total_discriminator_loss  = 0.0\n",
    "    running_generator_loss = 0.0\n",
    "    for i,data in enumerate(train_loader,0):\n",
    "        input_img,l = data\n",
    "        input_img,l = input_img.cuda(),l.cuda()\n",
    "        #zero the parameter gradients\n",
    "        optimizer_discriminator.zero_grad()\n",
    "        optimizer_generator.zero_grad()\n",
    "        #forward + loss + backprop#\n",
    "        \n",
    "        ###Training discriminator###\n",
    "    \n",
    "        real_out = dis(input_img)\n",
    "        real_loss = criterion(real_out,torch.ones(real_out.shape).cuda())\n",
    "        Noise = noise(4).cuda()\n",
    "        fake_image = gen(Noise)\n",
    "        fake_out = dis(fake_image)\n",
    "        fake_dis_loss = criterion(fake_out,torch.zeros(fake_out.shape).cuda())\n",
    "        \n",
    "        total_discriminator_loss = real_loss + fake_dis_loss\n",
    "        total_discriminator_loss.backward()\n",
    "        optimizer_discriminator.step()\n",
    "       \n",
    "        ###Training generator###\n",
    "        Noise = noise(4).cuda()\n",
    "        fake_image = gen(Noise)\n",
    "        fake_out = dis(fake_image)\n",
    "        generator_loss = criterion(fake_out,torch.ones(fake_out.shape).cuda())\n",
    "        \n",
    "        generator_loss.backward()\n",
    "        optimizer_generator.step()\n",
    "        \n",
    "         # print statistics\n",
    "        running_total_discriminator_loss += total_discriminator_loss.item()\n",
    "        running_generator_loss += generator_loss.item()\n",
    "        if i % 2000 == 1999:    # print every 2000 mini-batches\n",
    "            print('[%d, %5d] dis_loss: %.3f' %\n",
    "                  (epoch + 1, i + 1, running_total_discriminator_loss / 2000))\n",
    "            print('[%d, %5d] gen_loss: %.3f' %\n",
    "                  (epoch + 1, i + 1,running_generator_loss  / 2000))\n",
    "            running_total_discriminator_loss  = 0.0\n",
    "            running_generator_loss = 0.0\n",
    "    \n",
    "    fake_image = gen(torch.randn(1,100).cuda())\n",
    "    output = fake_image.cpu()\n",
    "    imshow(torchvision.utils.make_grid(output))\n",
    "    #plt.savefig(str(epoch)+\".pdf\")\n",
    "    #fake_image = gen(torch.randn(1,100).cuda())    \n",
    "    #cv2.imwrite(os.path.join('./trained_output', '%05d.png'), get_image(fake_image[0]))\n",
    "torch.save(dis.state_dict(), 'dis.pth')\n",
    "torch.save(gen.state_dict(), 'gen.pth')    "
   ]
  },
  {
   "cell_type": "code",
   "execution_count": 13,
   "metadata": {},
   "outputs": [
    {
     "data": {
      "text/plain": [
       "discriminator(\n",
       "  (layer1): Sequential(\n",
       "    (0): Conv2d(1, 16, kernel_size=(7, 7), stride=(1, 1), padding=(3, 3))\n",
       "    (1): BatchNorm2d(16, eps=1e-05, momentum=0.1, affine=True, track_running_stats=True)\n",
       "    (2): LeakyReLU(negative_slope=0.2)\n",
       "    (3): MaxPool2d(kernel_size=2, stride=2, padding=0, dilation=1, ceil_mode=False)\n",
       "  )\n",
       "  (layer2): Sequential(\n",
       "    (0): Conv2d(16, 32, kernel_size=(5, 5), stride=(1, 1), padding=(2, 2))\n",
       "    (1): BatchNorm2d(32, eps=1e-05, momentum=0.1, affine=True, track_running_stats=True)\n",
       "    (2): LeakyReLU(negative_slope=0.2)\n",
       "    (3): MaxPool2d(kernel_size=2, stride=2, padding=0, dilation=1, ceil_mode=False)\n",
       "  )\n",
       "  (fc): Linear(in_features=1568, out_features=1, bias=True)\n",
       "  (output): Sigmoid()\n",
       ")"
      ]
     },
     "execution_count": 13,
     "metadata": {},
     "output_type": "execute_result"
    }
   ],
   "source": [
    "################# Evaluation ####################\n",
    "\n",
    "####### Loading Model #######\n",
    "gen_eval = generator()\n",
    "gen_eval = gen_eval.cuda()\n",
    "dis_eval = discriminator()\n",
    "dis_eval = dis_eval.cuda()\n",
    "gen_eval.load_state_dict(torch.load('gen.pth'))\n",
    "dis_eval.load_state_dict(torch.load('dis.pth'))\n",
    "gen_eval.eval()\n",
    "dis_eval.eval()"
   ]
  },
  {
   "cell_type": "code",
   "execution_count": 20,
   "metadata": {},
   "outputs": [],
   "source": [
    "########### Generating Image ###############\n",
    "fake_image = gen_eval(torch.randn(1,100).cuda())"
   ]
  },
  {
   "cell_type": "code",
   "execution_count": 21,
   "metadata": {},
   "outputs": [
    {
     "data": {
      "image/png": "[encoded data removed]",
      "text/plain": [
       "<Figure size 432x288 with 1 Axes>"
      ]
     },
     "metadata": {},
     "output_type": "display_data"
    }
   ],
   "source": [
    "output = fake_image.cpu()\n",
    "imshow(torchvision.utils.make_grid(output))\n",
    "#plt.savefig(str(epoch)+\".pdf\")"
   ]
  }
 ],
 "metadata": {
  "kernelspec": {
   "display_name": "Python 3",
   "language": "python",
   "name": "python3"
  },
  "language_info": {
   "codemirror_mode": {
    "name": "ipython",
    "version": 3
   },
   "file_extension": ".py",
   "mimetype": "text/x-python",
   "name": "python",
   "nbconvert_exporter": "python",
   "pygments_lexer": "ipython3",
   "version": "3.6.5"
  }
 },
 "nbformat": 4,
 "nbformat_minor": 2
}
